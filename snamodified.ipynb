{
  "nbformat": 4,
  "nbformat_minor": 0,
  "metadata": {
    "colab": {
      "name": "snamid.ipynb",
      "provenance": [],
      "collapsed_sections": []
    },
    "kernelspec": {
      "name": "python3",
      "display_name": "Python 3"
    }
  },
  "cells": [
    {
      "cell_type": "code",
      "metadata": {
        "id": "BWT8VdTzyIAE",
        "colab_type": "code",
        "colab": {}
      },
      "source": [
        "import csv\n",
        "import sys\n",
        "import math as m\n",
        "import time\n",
        "import networkx as nx\n",
        "import matplotlib.pyplot as plt"
      ],
      "execution_count": 0,
      "outputs": []
    },
    {
      "cell_type": "code",
      "metadata": {
        "id": "LyjSXsCEyPtp",
        "colab_type": "code",
        "outputId": "4d1fb4e1-c051-4e48-e4dd-05873b96c753",
        "colab": {
          "base_uri": "https://localhost:8080/",
          "height": 123
        }
      },
      "source": [
        "tic = time.perf_counter()\n",
        "degreelist=[]\n",
        "closenesslist=[]\n",
        "betweennesslist=[]\n",
        "pagernklist=[]\n",
        "file = input(\"Enter your dataset name with extention\")\n",
        "dlimit = input(\"Enter delimiter type(as symbol)\")\n",
        "wtype = input(\"Enter your dataset Edge weight type float/int?\")\n",
        "da = open(file,\"r\")     # we are opening the dataset as da\n",
        "data = csv.reader(open(file,\"r\"),delimiter=dlimit)\n",
        "Graphtype=nx.Graph()\n",
        "if(wtype==\"float\"):\n",
        "  G = nx.parse_edgelist(da, comments='t',delimiter=dlimit, create_using=Graphtype, nodetype=str, data=(('weight', float),))  # G is the graph object of networkx created based on the datas\n",
        "else:\n",
        "  G = nx.parse_edgelist(da, comments='t',delimiter=dlimit, create_using=Graphtype, nodetype=str, data=(('weight', int),))\n",
        "print(\"Do you want to have the drawn graph view?(Y/N)\")\n",
        "ch1=input()\n",
        "if(ch1=='Y' or ch1=='y'):\n",
        "    nx.draw(G)   #we are drawing the graph\n",
        "    plt.show()\n",
        "toc = time.perf_counter()\n",
        "print(f\"Elapsed time {(toc - tic)/60:0.4f} minutes\")\n"
      ],
      "execution_count": 4,
      "outputs": [
        {
          "output_type": "stream",
          "text": [
            "Enter your dataset name with extentionNetHEPT.txt\n",
            "Enter delimiter type(as symbol) \n",
            "Enter your dataset Edge weight type float/int?float\n",
            "Do you want to have the drawn graph view?(Y/N)\n",
            "n\n",
            "Elapsed time 0.5921 minutes\n"
          ],
          "name": "stdout"
        }
      ]
    },
    {
      "cell_type": "markdown",
      "metadata": {
        "id": "t0r8oBFGNF1X",
        "colab_type": "text"
      },
      "source": [
        "Degree Centrality calculated"
      ]
    },
    {
      "cell_type": "code",
      "metadata": {
        "id": "PR4iY58HyTD-",
        "colab_type": "code",
        "outputId": "a15dff50-cd49-4348-a214-4efc56b18704",
        "colab": {
          "base_uri": "https://localhost:8080/",
          "height": 52
        }
      },
      "source": [
        "#degreecentrality\n",
        "tic = time.perf_counter()\n",
        "deg=nx.degree_centrality(G)\n",
        "sorted_deg = sorted(deg.items() , reverse=True, key=lambda x: x[1])\n",
        "degreelist=[x[0] for x in sorted_deg]\n",
        "print(\"degreecentrality done\")\n",
        "toc = time.perf_counter()\n",
        "print(f\"Elapsed time {(toc - tic)/60:0.4f} minutes\")"
      ],
      "execution_count": 5,
      "outputs": [
        {
          "output_type": "stream",
          "text": [
            "degreecentrality done\n",
            "Elapsed time 0.0003 minutes\n"
          ],
          "name": "stdout"
        }
      ]
    },
    {
      "cell_type": "markdown",
      "metadata": {
        "id": "N0U6EtNyNOjW",
        "colab_type": "text"
      },
      "source": [
        "Closeness Centrality Calculated"
      ]
    },
    {
      "cell_type": "code",
      "metadata": {
        "id": "-Bkdu-OCyvx3",
        "colab_type": "code",
        "outputId": "12b5f6c1-6c20-4790-f86a-60b8eb524e71",
        "colab": {
          "base_uri": "https://localhost:8080/",
          "height": 52
        }
      },
      "source": [
        "#closeness\n",
        "close=nx.closeness_centrality(G)\n",
        "sorted_close = sorted(close.items() , reverse=True, key=lambda x: x[1])\n",
        "closenesslist=[x[0] for x in sorted_close]\n",
        "print(\"closeness done\")\n",
        "toc = time.perf_counter()\n",
        "print(f\"Elapsed time {(toc - tic)/60:0.4f} minutes\")"
      ],
      "execution_count": 7,
      "outputs": [
        {
          "output_type": "stream",
          "text": [
            "closeness done\n",
            "Elapsed time 3.3226 minutes\n"
          ],
          "name": "stdout"
        }
      ]
    },
    {
      "cell_type": "markdown",
      "metadata": {
        "id": "hL_h9jcpNVwX",
        "colab_type": "text"
      },
      "source": [
        "Betweeness Centrality Calculated"
      ]
    },
    {
      "cell_type": "code",
      "metadata": {
        "id": "bBu4F6qyyyoX",
        "colab_type": "code",
        "outputId": "ada5baea-8edf-450e-aff7-7f838c19fedd",
        "colab": {
          "base_uri": "https://localhost:8080/",
          "height": 52
        }
      },
      "source": [
        "#betweeness\n",
        "tic = time.perf_counter()\n",
        "between=nx.betweenness_centrality(G)\n",
        "sorted_between = sorted(between.items() , reverse=True, key=lambda x: x[1])\n",
        "betweennesslist=[x[0] for x in sorted_between]\n",
        "print(\"betweeness done\")\n",
        "toc = time.perf_counter()\n",
        "print(f\"Elapsed time {(toc - tic)/60:0.4f} minutes\")"
      ],
      "execution_count": 8,
      "outputs": [
        {
          "output_type": "stream",
          "text": [
            "betweeness done\n",
            "Elapsed time 7.1815 minutes\n"
          ],
          "name": "stdout"
        }
      ]
    },
    {
      "cell_type": "markdown",
      "metadata": {
        "id": "GpunrsEBNczb",
        "colab_type": "text"
      },
      "source": [
        "Page Rank Calculated"
      ]
    },
    {
      "cell_type": "code",
      "metadata": {
        "id": "IqqunMYYy31R",
        "colab_type": "code",
        "outputId": "619671d0-b84a-413e-d082-8d140a67a663",
        "colab": {
          "base_uri": "https://localhost:8080/",
          "height": 52
        }
      },
      "source": [
        "#pagerank\n",
        "tic = time.perf_counter()\n",
        "pagernk=nx.pagerank(G)\n",
        "sorted_pagernk = sorted(pagernk.items() , reverse=True, key=lambda x: x[1])\n",
        "pagernklist=[x[0] for x in sorted_pagernk]\n",
        "print(\"pagerank done\")\n",
        "toc = time.perf_counter()\n",
        "print(f\"Elapsed time {(toc - tic)/60:0.4f} minutes\")"
      ],
      "execution_count": 6,
      "outputs": [
        {
          "output_type": "stream",
          "text": [
            "pagerank done\n",
            "Elapsed time 0.0358 minutes\n"
          ],
          "name": "stdout"
        }
      ]
    },
    {
      "cell_type": "markdown",
      "metadata": {
        "id": "bMc-OHssNjSA",
        "colab_type": "text"
      },
      "source": [
        "Fuction to find the next set of nodes getting affected"
      ]
    },
    {
      "cell_type": "code",
      "metadata": {
        "id": "GiCSOe5fy7ka",
        "colab_type": "code",
        "colab": {}
      },
      "source": [
        "def infulential_node_function(seed_node):\n",
        "    influencial_node_list=[]\n",
        "    temp=[]\n",
        "    for i in seed_node:\n",
        "        # print(i)\n",
        "        for j in route:\n",
        "            if(j[0]==i):\n",
        "                # print(j)\n",
        "                temp.append(j[1])\n",
        "        influencial_node_list.extend(temp)\n",
        "    influencial_node_list=list(set(influencial_node_list))\n",
        "    return influencial_node_list"
      ],
      "execution_count": 0,
      "outputs": []
    },
    {
      "cell_type": "code",
      "metadata": {
        "id": "SaVrAiBdy_Rp",
        "colab_type": "code",
        "colab": {}
      },
      "source": [
        "air=[]\n",
        "route=[]"
      ],
      "execution_count": 0,
      "outputs": []
    },
    {
      "cell_type": "code",
      "metadata": {
        "id": "fljIBeaozCrH",
        "colab_type": "code",
        "outputId": "8f375814-9521-4ffa-fa5d-f2f29e5967b5",
        "colab": {
          "base_uri": "https://localhost:8080/",
          "height": 34
        }
      },
      "source": [
        "for row in data:\n",
        "    air.append(row[0])\n",
        "    route.append(row)\n",
        "\n",
        "air=list(set(air))\n",
        "totalnnode=len(air)\n",
        "\n",
        "print(\"Data Loaded\")"
      ],
      "execution_count": 11,
      "outputs": [
        {
          "output_type": "stream",
          "text": [
            "Data Loaded\n"
          ],
          "name": "stdout"
        }
      ]
    },
    {
      "cell_type": "code",
      "metadata": {
        "id": "4jJ9PnoS0s70",
        "colab_type": "code",
        "outputId": "87b4ea5e-6aeb-4d1c-e9cc-83958d74f96d",
        "colab": {
          "base_uri": "https://localhost:8080/",
          "height": 1000
        }
      },
      "source": [
        "while(1):\n",
        "    print(\"\\nPress 1 -> Find percentage of nodes affected(in 1st and 2nd hop) for inputed number of affected nodes\")\n",
        "    print(\"\\nPress 2 -> Find number of nodes need to be affected to reach a given Percentage in 1st and 2nd hop\")\n",
        "    print(\"\\nPress 3 -> Find top n seed nodes\")\n",
        "    print(\"\\nPress 4 -> Exit\")\n",
        "    ch = int(input())\n",
        "    if(ch==2):\n",
        "        val = int(input(\"Enter the percentage you want to affect :\"))\n",
        "        c=0\n",
        "        x=[]\n",
        "        y=[]\n",
        "        x_plot=[]\n",
        "        y_plot=[]\n",
        "        y2=[]\n",
        "        skip=50\n",
        "        for s in range(0,totalnnode,skip):\n",
        "            #total seed nodes from above methods\n",
        "            node=degreelist[:s]+closenesslist[:s]+betweennesslist[:s]+pagernklist[:s]\n",
        "            #to find unique seed nodes\n",
        "            unique_seed_node_list=list(set(node))\n",
        "            #print(unique_seed_node_list)\n",
        "            second_influencial_node_list=infulential_node_function(unique_seed_node_list)\n",
        "            #print(second_influencial_node_list)\n",
        "            third_influencial_node_list=infulential_node_function(second_influencial_node_list)\n",
        "            third_influencial_node_list=infulential_node_function(second_influencial_node_list)\n",
        "            third_total=list(set(second_influencial_node_list+third_influencial_node_list))\n",
        "            str = \"percetange at 1st hop:\"\n",
        "            str2 = \"percetange at 2nd hop:\"\n",
        "            hop1 = ((len(second_influencial_node_list)/len(air))*100)\n",
        "            hop2 = ((len(third_influencial_node_list)/len(air))*100)\n",
        "            hop3 = ((len(third_total)/len(air))*100)\n",
        "            x.append(s)\n",
        "            y.append(len(second_influencial_node_list))\n",
        "            y_plot.append(len(third_influencial_node_list))\n",
        "            y2.append(len(third_total))\n",
        "            if(hop3>=val and c==0):\n",
        "                c=1\n",
        "                print(\"For\",s,\" affected nodes\")\n",
        "                print(str,hop1,\"% reached\")\n",
        "                print(str2,hop3,\"% reached\")\n",
        "            if(hop1>=val):\n",
        "                print(\"For\",s,\" affected nodes\")\n",
        "                print(str,hop1,\"% reached\")\n",
        "                print(str2,hop3,\"% reached\")\n",
        "                print(\"If want to see the curve of 1st and 2nd hop press Y else N\")\n",
        "                ch2 = input()\n",
        "                if(ch2=='Y' or ch2=='y'):\n",
        "                    plt.plot(x,y)\n",
        "                    plt.plot(x,y_plot,color='green')\n",
        "                    plt.plot(x,y2,color='red')\n",
        "                    plt.xlabel('Number of seed node from each method')\n",
        "                    plt.ylabel('Infulential node')\n",
        "                    plt.grid()\n",
        "                    plt.show()\n",
        "                    break\n",
        "                else:\n",
        "                    break\n",
        "                \n",
        "    if(ch==1):\n",
        "        val = int(input(\"Enter the number nodes affected nodes :\"))\n",
        "        s = val\n",
        "        seed_node=degreelist[:s]+closenesslist[:s]+betweennesslist[:s]+pagernklist[:s]\n",
        "        unique_seed_node_list=list(set(seed_node))\n",
        "        unique_seed_node_list=unique_seed_node_list[:s]\n",
        "        second_influencial_node_list=infulential_node_function(unique_seed_node_list)\n",
        "        third_influencial_node_list=infulential_node_function(second_influencial_node_list)\n",
        "        hop1 = ((len(second_influencial_node_list)/len(air))*100)\n",
        "        hop2 = ((len(third_influencial_node_list)/len(air))*100)\n",
        "        print(len(second_influencial_node_list),\" nodes affected in 1st hop and i.e. \",hop1,\"%\")\n",
        "        print(len(third_influencial_node_list),\" nodes affected in 2nd hop and i.e. \",hop2,\"%\")\n",
        "\n",
        "    if(ch==3):\n",
        "      s = int(input(\"Enter the value of 'n' for the loaded centrality \"))\n",
        "      seed_node=degreelist[:s]+closenesslist[:s]+betweennesslist[:s]+pagernklist[:s]\n",
        "      unique_seed_node_list=list(set(seed_node))\n",
        "      print(\"The top\",s,\"seed nodes are\",unique_seed_node_list[:s])\n",
        "\n",
        "    if(ch==4):\n",
        "        sys.exit(0)"
      ],
      "execution_count": 12,
      "outputs": [
        {
          "output_type": "stream",
          "text": [
            "\n",
            "Press 1 -> Find percentage of nodes affected(in 1st and 2nd hop) for inputed number of affected nodes\n",
            "\n",
            "Press 2 -> Find number of nodes need to be affected to reach a given Percentage in 1st and 2nd hop\n",
            "\n",
            "Press 3 -> Find top n seed nodes\n",
            "\n",
            "Press 4 -> Exit\n",
            "2\n",
            "Enter the percentage you want to affect :50\n",
            "For 500  affected nodes\n",
            "percetange at 1st hop: 41.22799014688441 % reached\n",
            "percetange at 2nd hop: 50.53371042788066 % reached\n",
            "For 800  affected nodes\n",
            "percetange at 1st hop: 50.615819724477696 % reached\n",
            "percetange at 2nd hop: 57.5403704041602 % reached\n",
            "If want to see the curve of 1st and 2nd hop press Y else N\n",
            "y\n"
          ],
          "name": "stdout"
        },
        {
          "output_type": "display_data",
          "data": {
            "image/png": "[encoded data removed]",
            "text/plain": [
              "<Figure size 432x288 with 1 Axes>"
            ]
          },
          "metadata": {
            "tags": [],
            "needs_background": "light"
          }
        },
        {
          "output_type": "stream",
          "text": [
            "\n",
            "Press 1 -> Find percentage of nodes affected(in 1st and 2nd hop) for inputed number of affected nodes\n",
            "\n",
            "Press 2 -> Find number of nodes need to be affected to reach a given Percentage in 1st and 2nd hop\n",
            "\n",
            "Press 3 -> Find top n seed nodes\n",
            "\n",
            "Press 4 -> Exit\n"
          ],
          "name": "stdout"
        },
        {
          "output_type": "error",
          "ename": "KeyboardInterrupt",
          "evalue": "ignored",
          "traceback": [
            "\u001b[0;31m---------------------------------------------------------------------------\u001b[0m",
            "\u001b[0;31mKeyboardInterrupt\u001b[0m                         Traceback (most recent call last)",
            "\u001b[0;32m/usr/local/lib/python3.6/dist-packages/ipykernel/kernelbase.py\u001b[0m in \u001b[0;36m_input_request\u001b[0;34m(self, prompt, ident, parent, password)\u001b[0m\n\u001b[1;32m    728\u001b[0m             \u001b[0;32mtry\u001b[0m\u001b[0;34m:\u001b[0m\u001b[0;34m\u001b[0m\u001b[0;34m\u001b[0m\u001b[0m\n\u001b[0;32m--> 729\u001b[0;31m                 \u001b[0mident\u001b[0m\u001b[0;34m,\u001b[0m \u001b[0mreply\u001b[0m \u001b[0;34m=\u001b[0m \u001b[0mself\u001b[0m\u001b[0;34m.\u001b[0m\u001b[0msession\u001b[0m\u001b[0;34m.\u001b[0m\u001b[0mrecv\u001b[0m\u001b[0;34m(\u001b[0m\u001b[0mself\u001b[0m\u001b[0;34m.\u001b[0m\u001b[0mstdin_socket\u001b[0m\u001b[0;34m,\u001b[0m \u001b[0;36m0\u001b[0m\u001b[0;34m)\u001b[0m\u001b[0;34m\u001b[0m\u001b[0;34m\u001b[0m\u001b[0m\n\u001b[0m\u001b[1;32m    730\u001b[0m             \u001b[0;32mexcept\u001b[0m \u001b[0mException\u001b[0m\u001b[0;34m:\u001b[0m\u001b[0;34m\u001b[0m\u001b[0;34m\u001b[0m\u001b[0m\n",
            "\u001b[0;32m/usr/local/lib/python3.6/dist-packages/jupyter_client/session.py\u001b[0m in \u001b[0;36mrecv\u001b[0;34m(self, socket, mode, content, copy)\u001b[0m\n\u001b[1;32m    802\u001b[0m         \u001b[0;32mtry\u001b[0m\u001b[0;34m:\u001b[0m\u001b[0;34m\u001b[0m\u001b[0;34m\u001b[0m\u001b[0m\n\u001b[0;32m--> 803\u001b[0;31m             \u001b[0mmsg_list\u001b[0m \u001b[0;34m=\u001b[0m \u001b[0msocket\u001b[0m\u001b[0;34m.\u001b[0m\u001b[0mrecv_multipart\u001b[0m\u001b[0;34m(\u001b[0m\u001b[0mmode\u001b[0m\u001b[0;34m,\u001b[0m \u001b[0mcopy\u001b[0m\u001b[0;34m=\u001b[0m\u001b[0mcopy\u001b[0m\u001b[0;34m)\u001b[0m\u001b[0;34m\u001b[0m\u001b[0;34m\u001b[0m\u001b[0m\n\u001b[0m\u001b[1;32m    804\u001b[0m         \u001b[0;32mexcept\u001b[0m \u001b[0mzmq\u001b[0m\u001b[0;34m.\u001b[0m\u001b[0mZMQError\u001b[0m \u001b[0;32mas\u001b[0m \u001b[0me\u001b[0m\u001b[0;34m:\u001b[0m\u001b[0;34m\u001b[0m\u001b[0;34m\u001b[0m\u001b[0m\n",
            "\u001b[0;32m/usr/local/lib/python3.6/dist-packages/zmq/sugar/socket.py\u001b[0m in \u001b[0;36mrecv_multipart\u001b[0;34m(self, flags, copy, track)\u001b[0m\n\u001b[1;32m    474\u001b[0m         \"\"\"\n\u001b[0;32m--> 475\u001b[0;31m         \u001b[0mparts\u001b[0m \u001b[0;34m=\u001b[0m \u001b[0;34m[\u001b[0m\u001b[0mself\u001b[0m\u001b[0;34m.\u001b[0m\u001b[0mrecv\u001b[0m\u001b[0;34m(\u001b[0m\u001b[0mflags\u001b[0m\u001b[0;34m,\u001b[0m \u001b[0mcopy\u001b[0m\u001b[0;34m=\u001b[0m\u001b[0mcopy\u001b[0m\u001b[0;34m,\u001b[0m \u001b[0mtrack\u001b[0m\u001b[0;34m=\u001b[0m\u001b[0mtrack\u001b[0m\u001b[0;34m)\u001b[0m\u001b[0;34m]\u001b[0m\u001b[0;34m\u001b[0m\u001b[0;34m\u001b[0m\u001b[0m\n\u001b[0m\u001b[1;32m    476\u001b[0m         \u001b[0;31m# have first part already, only loop while more to receive\u001b[0m\u001b[0;34m\u001b[0m\u001b[0;34m\u001b[0m\u001b[0;34m\u001b[0m\u001b[0m\n",
            "\u001b[0;32mzmq/backend/cython/socket.pyx\u001b[0m in \u001b[0;36mzmq.backend.cython.socket.Socket.recv\u001b[0;34m()\u001b[0m\n",
            "\u001b[0;32mzmq/backend/cython/socket.pyx\u001b[0m in \u001b[0;36mzmq.backend.cython.socket.Socket.recv\u001b[0;34m()\u001b[0m\n",
            "\u001b[0;32mzmq/backend/cython/socket.pyx\u001b[0m in \u001b[0;36mzmq.backend.cython.socket._recv_copy\u001b[0;34m()\u001b[0m\n",
            "\u001b[0;32m/usr/local/lib/python3.6/dist-packages/zmq/backend/cython/checkrc.pxd\u001b[0m in \u001b[0;36mzmq.backend.cython.checkrc._check_rc\u001b[0;34m()\u001b[0m\n",
            "\u001b[0;31mKeyboardInterrupt\u001b[0m: ",
            "\nDuring handling of the above exception, another exception occurred:\n",
            "\u001b[0;31mKeyboardInterrupt\u001b[0m                         Traceback (most recent call last)",
            "\u001b[0;32m<ipython-input-12-99440e1f9a7d>\u001b[0m in \u001b[0;36m<module>\u001b[0;34m()\u001b[0m\n\u001b[1;32m      4\u001b[0m     \u001b[0mprint\u001b[0m\u001b[0;34m(\u001b[0m\u001b[0;34m\"\\nPress 3 -> Find top n seed nodes\"\u001b[0m\u001b[0;34m)\u001b[0m\u001b[0;34m\u001b[0m\u001b[0;34m\u001b[0m\u001b[0m\n\u001b[1;32m      5\u001b[0m     \u001b[0mprint\u001b[0m\u001b[0;34m(\u001b[0m\u001b[0;34m\"\\nPress 4 -> Exit\"\u001b[0m\u001b[0;34m)\u001b[0m\u001b[0;34m\u001b[0m\u001b[0;34m\u001b[0m\u001b[0m\n\u001b[0;32m----> 6\u001b[0;31m     \u001b[0mch\u001b[0m \u001b[0;34m=\u001b[0m \u001b[0mint\u001b[0m\u001b[0;34m(\u001b[0m\u001b[0minput\u001b[0m\u001b[0;34m(\u001b[0m\u001b[0;34m)\u001b[0m\u001b[0;34m)\u001b[0m\u001b[0;34m\u001b[0m\u001b[0;34m\u001b[0m\u001b[0m\n\u001b[0m\u001b[1;32m      7\u001b[0m     \u001b[0;32mif\u001b[0m\u001b[0;34m(\u001b[0m\u001b[0mch\u001b[0m\u001b[0;34m==\u001b[0m\u001b[0;36m2\u001b[0m\u001b[0;34m)\u001b[0m\u001b[0;34m:\u001b[0m\u001b[0;34m\u001b[0m\u001b[0;34m\u001b[0m\u001b[0m\n\u001b[1;32m      8\u001b[0m         \u001b[0mval\u001b[0m \u001b[0;34m=\u001b[0m \u001b[0mint\u001b[0m\u001b[0;34m(\u001b[0m\u001b[0minput\u001b[0m\u001b[0;34m(\u001b[0m\u001b[0;34m\"Enter the percentage you want to affect :\"\u001b[0m\u001b[0;34m)\u001b[0m\u001b[0;34m)\u001b[0m\u001b[0;34m\u001b[0m\u001b[0;34m\u001b[0m\u001b[0m\n",
            "\u001b[0;32m/usr/local/lib/python3.6/dist-packages/ipykernel/kernelbase.py\u001b[0m in \u001b[0;36mraw_input\u001b[0;34m(self, prompt)\u001b[0m\n\u001b[1;32m    702\u001b[0m             \u001b[0mself\u001b[0m\u001b[0;34m.\u001b[0m\u001b[0m_parent_ident\u001b[0m\u001b[0;34m,\u001b[0m\u001b[0;34m\u001b[0m\u001b[0;34m\u001b[0m\u001b[0m\n\u001b[1;32m    703\u001b[0m             \u001b[0mself\u001b[0m\u001b[0;34m.\u001b[0m\u001b[0m_parent_header\u001b[0m\u001b[0;34m,\u001b[0m\u001b[0;34m\u001b[0m\u001b[0;34m\u001b[0m\u001b[0m\n\u001b[0;32m--> 704\u001b[0;31m             \u001b[0mpassword\u001b[0m\u001b[0;34m=\u001b[0m\u001b[0;32mFalse\u001b[0m\u001b[0;34m,\u001b[0m\u001b[0;34m\u001b[0m\u001b[0;34m\u001b[0m\u001b[0m\n\u001b[0m\u001b[1;32m    705\u001b[0m         )\n\u001b[1;32m    706\u001b[0m \u001b[0;34m\u001b[0m\u001b[0m\n",
            "\u001b[0;32m/usr/local/lib/python3.6/dist-packages/ipykernel/kernelbase.py\u001b[0m in \u001b[0;36m_input_request\u001b[0;34m(self, prompt, ident, parent, password)\u001b[0m\n\u001b[1;32m    732\u001b[0m             \u001b[0;32mexcept\u001b[0m \u001b[0mKeyboardInterrupt\u001b[0m\u001b[0;34m:\u001b[0m\u001b[0;34m\u001b[0m\u001b[0;34m\u001b[0m\u001b[0m\n\u001b[1;32m    733\u001b[0m                 \u001b[0;31m# re-raise KeyboardInterrupt, to truncate traceback\u001b[0m\u001b[0;34m\u001b[0m\u001b[0;34m\u001b[0m\u001b[0;34m\u001b[0m\u001b[0m\n\u001b[0;32m--> 734\u001b[0;31m                 \u001b[0;32mraise\u001b[0m \u001b[0mKeyboardInterrupt\u001b[0m\u001b[0;34m\u001b[0m\u001b[0;34m\u001b[0m\u001b[0m\n\u001b[0m\u001b[1;32m    735\u001b[0m             \u001b[0;32melse\u001b[0m\u001b[0;34m:\u001b[0m\u001b[0;34m\u001b[0m\u001b[0;34m\u001b[0m\u001b[0m\n\u001b[1;32m    736\u001b[0m                 \u001b[0;32mbreak\u001b[0m\u001b[0;34m\u001b[0m\u001b[0;34m\u001b[0m\u001b[0m\n",
            "\u001b[0;31mKeyboardInterrupt\u001b[0m: "
          ]
        }
      ]
    }
  ]
}